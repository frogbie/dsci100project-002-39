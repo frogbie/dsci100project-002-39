{
 "cells": [
  {
   "cell_type": "markdown",
   "id": "6cf881fa-5a81-4db9-a517-c4c778865e70",
   "metadata": {},
   "source": [
    "# DSCI 100 Project Final Report: Predicting Hours Contribution To “Players” Dataset From UBC Minecraft Players Based On Experience Level, Age, & Gender."
   ]
  },
  {
   "cell_type": "markdown",
   "id": "c8c9fd25-1945-435f-abce-31b4609a2075",
   "metadata": {},
   "source": [
    "**Section:** 100-002. <br>\n",
    "**Group Number:** 39. <br>\n",
    "**Members:** <br>\n",
    "Kevin Liu (91073668). <br>\n",
    "Sophie Schlatter (77753598). <br>\n",
    "Robbie Suganob (18247866). <br>\n",
    "Adrian Tang (56996051)."
   ]
  },
  {
   "cell_type": "markdown",
   "id": "bb2351d8-dcab-4042-98f6-2f7894df13f1",
   "metadata": {},
   "source": [
    "***"
   ]
  },
  {
   "attachments": {},
   "cell_type": "markdown",
   "id": "c94d2508-3703-433d-9392-b9cbd529d6e4",
   "metadata": {},
   "source": [
    "## **PART 1: INTRODUCTION**\n",
    "\n",
    "### Background:"
   ]
  },
  {
   "cell_type": "markdown",
   "id": "83296266-6ca7-4762-a9f5-7c419c01bf3c",
   "metadata": {},
   "source": [
    "Understanding player engagement is a critical aspect of game research, influencing game design, resource allocation, and targeted player recruitment, which has led to increased interest in analyzing player activity data. A research group in the Computer Science department at the University of British Columbia (UBC), led by Frank Wood, is investigating how players interact with video games by collecting their in-game behavioural data.\n",
    "\n",
    "For their study, the research team has set up a Minecraft server, where players' in-game actions are recorded as they navigate through the virtual world. The data collected provides an understanding of how different types of players engage with the game. However, not all players contribute equally. Some engage with the game significantly more than others, and running such a project efficiently requires targeted recruitment strategies to attract the players who will contribute more data. By identifying player characteristics that correlate with high levels of engagement, the research team can focus their recruitment efforts on individuals who are most likely to produce relevant and necessary data."
   ]
  },
  {
   "cell_type": "markdown",
   "id": "1d5a9e62-f4af-45d5-8e90-fc95b2fae9dc",
   "metadata": {},
   "source": [
    "### Research Question:"
   ]
  },
  {
   "cell_type": "markdown",
   "id": "daf3d064-401c-4d71-98eb-e990adbf24ed",
   "metadata": {},
   "source": [
    "This report aims to answer the following question:\n",
    "\n",
    "**\"Can certain experience levels, ages, and genders predict the total number of hours a player contributes to the players dataset?\"**\n",
    "\n",
    "By analyzing how each of these player characteristics relate to total playtime, we can determine which groups of players are most engaged and therefore contribute the most data. These findings will help the research team refine recruitment strategies and allocate their resources more efficiently."
   ]
  },
  {
   "cell_type": "markdown",
   "id": "72042012-8aab-4a90-a995-af9d5b7045a7",
   "metadata": {},
   "source": [
    "### Dataset Analysis:"
   ]
  },
  {
   "cell_type": "markdown",
   "id": "95713b92-2d8d-4f3f-b4ef-f96fa28a50c7",
   "metadata": {},
   "source": [
    "To answer this question, we used two datasets: <br>\n",
    "**`players.csv`** &mdash; Contains general demographic and experience-related information about players. <br>\n",
    "**`sessions.csv`** &mdash; The logs of individual game sessions.\n",
    "\n",
    "***\n",
    "The descriptive summary of the variables in the **`players.csv`** dataset: <br>\n",
    "<br> - Number of observations: **196** (indicates 196 unique users/players).\n",
    "<br> - Number of variables: **7** (listed below).\n",
    "| Variable | Type | Description |\n",
    "| --- | --- | --- | \n",
    "| `experience`| categorical (chr) | Refers to the player's experience level (amateur, regular, veteran, pro). |\n",
    "| `subscribe` | logical (lgl) | Whether the player is a subscriber to the game-related newsletter. |\n",
    "| `hashedEmail` | categorical (chr) | A hashed (encrypted) version of a player's email that acts as an anonymized identifier for the player; this is done to avoid using their actual email addresses and thus protect their privacy. |\n",
    "| `played_hours` | numerical (dbl) | Total hours played by the player. |\n",
    "| `name` | categorical (chr) | Player's name. |\n",
    "| `gender` | categorical (chr) | Gender of the player. | \n",
    "| `Age` | numerical (dbl) | Player's age. |\n",
    "\n",
    "\n",
    "Other notes for the **`players.csv`** dataset:\n",
    "<br> - Some variables such as `gender` and `experience` may not be evenly distributed, which may introduce biases to predictions.\n",
    "<br> - `played_hours` could have outliers; some players are observed to have extreme values. This could potentially skew the averages and impact the modeling.\n",
    "\n",
    "***\n",
    "The descriptive summary of the variables in the **`sessions.csv`** dataset: <br>\n",
    "<br> - Number of observations: **1535** (indicates 1535 recorded sessions).\n",
    "<br> - Number of variables: **5** (listed below)\n",
    "| Variable | Type | Description |\n",
    "| --- | --- | --- | \n",
    "| `hashedEmail`| categorical (chr) | Anonymized player identifier, matches the **`players.csv`** dataset. |\n",
    "| `start_time` | categorical (chr) | Date and time for the start of player's session. |\n",
    "| `end_time` | categorical (chr) | Date and time for the end of player's session. |\n",
    "| `original_start_time` | numerical (dbl) | A timestamp version of `start_time`. |\n",
    "| `original_end_time` | numerical (dbl) | A timestamp version of `end_time`. |\n",
    "\n",
    "Other notes for the **`sessions.csv`** dataset:\n",
    "<br> - There are significantly more session observations than player observations, indicating that some players has multiple sessions."
   ]
  },
  {
   "cell_type": "markdown",
   "id": "df935abf-9981-4d64-848c-90107eeed36e",
   "metadata": {},
   "source": [
    "***"
   ]
  },
  {
   "cell_type": "markdown",
   "id": "9b57a4fd-4c46-405a-b4d1-64041b160b56",
   "metadata": {},
   "source": [
    "## **PART 2: METHODS & RESULTS**"
   ]
  },
  {
   "cell_type": "markdown",
   "id": "9b4361db-9be6-48c7-951a-f03f13c7931f",
   "metadata": {},
   "source": [
    "Here, we will load the necessary libraries and data, assigning **`players.csv`** and **`sessions.csv`** to objects **players** and **sessions** respectively:"
   ]
  },
  {
   "cell_type": "code",
   "execution_count": null,
   "id": "4693407b-76ed-4227-b2c7-4176c32f2c6c",
   "metadata": {},
   "outputs": [],
   "source": [
    "library(ggplot2)\n",
    "library(repr)\n",
    "library(tidymodels)\n",
    "library(tidyverse)"
   ]
  },
  {
   "cell_type": "code",
   "execution_count": null,
   "id": "5084e3ec-7139-41c7-8f28-32d1da5e9867",
   "metadata": {},
   "outputs": [],
   "source": [
    "players <- read.csv(\"https://raw.githubusercontent.com/frogbie/dsci100project-002-39/refs/heads/main/players.csv\")\n",
    "head(players)"
   ]
  },
  {
   "cell_type": "code",
   "execution_count": null,
   "id": "438d1dc1-a8f7-43c4-b00b-5e765a59a45b",
   "metadata": {},
   "outputs": [],
   "source": [
    "sessions<- read.csv(\"https://raw.githubusercontent.com/frogbie/dsci100project-002-39/refs/heads/main/sessions.csv\")\n",
    "head(sessions)"
   ]
  },
  {
   "cell_type": "markdown",
   "id": "70cdd29d-4554-4ef8-a783-4d492dfa2da1",
   "metadata": {},
   "source": [
    "### Data Wrangling & Cleaning:"
   ]
  },
  {
   "cell_type": "markdown",
   "id": "7a0340df-c2a3-4bc6-8bf4-b9bff5d5407b",
   "metadata": {},
   "source": [
    "***"
   ]
  },
  {
   "cell_type": "markdown",
   "id": "aa2121cf-6175-4194-98c3-27976ae4831f",
   "metadata": {},
   "source": [
    "In terms of data wrangling, we will match the **players** and **sessions** dataset using the `hashedEmail` variable, which exists in both datasets. We then will aggregate the total number of sessions per player in a new variable `(total_sessions)`, and also calculate the average session duration per player. Using the `mutate` function, we can create a new variable: `avg_session_length`, which would be computed by played_hours / total_sessions. By doing this, we will be able to compare the `played_hours` and `avg_session_length` variables against `experience`, `age`, and `gender` to determine which characteristics are the strongest predictors of the amount of data a player contributes.\n"
   ]
  },
  {
   "cell_type": "markdown",
   "id": "285ba4af-41b3-478f-9095-a64c1009fd0a",
   "metadata": {},
   "source": [
    "In order to accomplish this, we need to perform the following: <br>\n",
    "- Store our `players` data frame in the `tidy_players` variable. <br>\n",
    "- Store our `sessions` data frame in the `tidy_sessions` variable, while also removing redundant data from the sessions dataset. <br>\n",
    "- Find the mean value for each quantitative variable in the `players.csv` dataset. "
   ]
  },
  {
   "cell_type": "markdown",
   "id": "fbb972c8-3a6c-4bc5-a16e-1b866eb3fc57",
   "metadata": {},
   "source": [
    "**Wrangling of `players` dataset:** <br>\n",
    "- The data is mostly tidy, but we have arranged the experience column by experience level for the sake of organization."
   ]
  },
  {
   "cell_type": "code",
   "execution_count": null,
   "id": "0f595ade-1f65-4ca8-96cd-c35c45b053d5",
   "metadata": {},
   "outputs": [],
   "source": [
    "tidy_players <- players |>\n",
    "    mutate(experience = factor(experience, levels = c(\"Amateur\", \"Beginner\", \"Regular\", \"Veteran\", \"Pro\"))) |>\n",
    "    arrange(experience)\n",
    "\n",
    "head(tidy_players)\n",
    "tail(tidy_players)"
   ]
  },
  {
   "cell_type": "markdown",
   "id": "87a89cd5-de94-4690-aec1-4cc8ec17eb28",
   "metadata": {},
   "source": [
    "**Wrangling of the `sessions` data set:** <br>\n",
    "Again, the data is mostly tidy in regards to what we require for this project. Although there are multiple repetitions in the `hashedEmail` column, each row represents a different observation (unique session). Removing the `original_start_time` and `original_end_time` columns allows us to avoid redundancy; we only need `start_time` and `end_time` to calculate the total session time. We will also convert the variables to POSIXct format (dttm) from character format to simplify calculations."
   ]
  },
  {
   "cell_type": "code",
   "execution_count": null,
   "id": "3a3011c3-ec69-4859-9dbc-9f3a7a5c981b",
   "metadata": {},
   "outputs": [],
   "source": [
    "tidy_sessions <- sessions |>\n",
    "    select(-original_start_time, -original_end_time) |>\n",
    "    mutate(start_time = as.POSIXct(start_time, format=\"%d/%m/%Y %H:%M\", tz=\"PTC\")) |>\n",
    "    mutate(end_time = as.POSIXct(end_time, format=\"%d/%m/%Y %H:%M\", tz=\"PTC\"))\n",
    "\n",
    "head(tidy_sessions)"
   ]
  },
  {
   "cell_type": "markdown",
   "id": "13a763bd-b5d3-4b1b-85ad-768681e90da4",
   "metadata": {},
   "source": [
    "**Mean value for each quantitative variable in the `players.csv` dataset:** <br>\n",
    "- Calculating the mean for each quantitative variable (age and played hours) can offer valuable insight for data analysis. For example, the mean age can help identify the age range where players are most active and would therefore contribute significant data. Similarly, the observed mean for played hours may serve as a benchmark for what we would define as significant contributors (i.e. we can determine if a certain characteristic is generally associated with higher playtime than the mean)."
   ]
  },
  {
   "cell_type": "code",
   "execution_count": null,
   "id": "19599695-2675-45ce-9bb3-0357a3052ed6",
   "metadata": {},
   "outputs": [],
   "source": [
    "players_means <- players |>\n",
    "    summarise(mean_played_hours = mean(played_hours, na.rm = TRUE), mean_age = mean(Age, na.rm = TRUE))\n",
    "\n",
    "players_means"
   ]
  },
  {
   "cell_type": "markdown",
   "id": "483e1ddd-d40b-48b1-858e-2f9a9166d989",
   "metadata": {},
   "source": [
    "***"
   ]
  },
  {
   "cell_type": "markdown",
   "id": "ab6116c6-04eb-4d7c-b18e-a696e7c5a576",
   "metadata": {},
   "source": [
    "### Dataset Visualisations:"
   ]
  },
  {
   "cell_type": "markdown",
   "id": "0dc5fae3-428f-4d1a-9aaa-dcccbc211fed",
   "metadata": {},
   "source": [
    "#### 1. Experience Level vs. Played Hours:"
   ]
  },
  {
   "cell_type": "code",
   "execution_count": null,
   "id": "5af8ed29-a7e2-4d39-983f-6474e3cda7eb",
   "metadata": {},
   "outputs": [],
   "source": [
    "experience_plot1 <- tidy_players |>\n",
    "    ggplot(aes(x = experience, y = played_hours)) +\n",
    "    geom_point(alpha = 0.6) +\n",
    "    labs(title = \"Played Hours By Experience Level\", x = \"Experience Level\", y = \"Played Hours\") +\n",
    "    theme(axis.text.x = element_text(color = \"grey20\", size = 12, angle = 30, hjust = .5, vjust = .5, face = \"plain\"),\n",
    "        axis.text.y = element_text(color = \"grey20\", size = 12, hjust = 1, vjust = 0, face = \"plain\"),  \n",
    "        axis.title.x = element_text(color = \"grey20\", size = 15, hjust = .5, vjust = 0, face = \"bold\"),\n",
    "        axis.title.y = element_text(color = \"grey20\", size = 15, angle = 90, hjust = .5, vjust = 2.5, face = \"bold\"),\n",
    "        title = element_text(size=18, face = \"bold\"))\n",
    "\n",
    "experience_plot1"
   ]
  },
  {
   "cell_type": "code",
   "execution_count": null,
   "id": "28f67f9d-bacd-4b0f-87fd-109c4d3841f2",
   "metadata": {},
   "outputs": [],
   "source": [
    "experience_means <- tidy_players |>\n",
    "    group_by(experience) |>\n",
    "    summarise(mean_hours = mean(played_hours, na.rm = TRUE))\n",
    "\n",
    "experience_plot2 <- experience_means |>\n",
    "    ggplot(aes(x = experience, y = mean_hours)) + \n",
    "    geom_col(fill = \"green\") +\n",
    "    labs(title = \"Average Played Hours By Experience Level\", x = \"Experience Level\", y = \"Average Played Hours\") +\n",
    "    theme(axis.text.x = element_text(color = \"grey20\", size = 12, angle = 30, hjust = .5, vjust = .5, face = \"plain\"),\n",
    "        axis.text.y = element_text(color = \"grey20\", size = 12, hjust = 1, vjust = 0, face = \"plain\"),  \n",
    "        axis.title.x = element_text(color = \"grey20\", size = 15, hjust = .5, vjust = 0, face = \"bold\"),\n",
    "        axis.title.y = element_text(color = \"grey20\", size = 15, angle = 90, hjust = .5, vjust = 2.5, face = \"bold\"),\n",
    "        title = element_text(size=18, face = \"bold\"))\n",
    "\n",
    "\n",
    "experience_plot2"
   ]
  },
  {
   "cell_type": "markdown",
   "id": "ba9e087b-a778-48e1-adfa-25c86d3d1e15",
   "metadata": {},
   "source": [
    "From the two visualizations above we can see that amateurs have the highest amounts of played hours overall. It may seem like regulars have the most playing time, which inuitively makes sense, however because of outliers in the data we can't say with complete certainty that it's true. Veteran's and Beginners had the least amount of playing time."
   ]
  },
  {
   "cell_type": "markdown",
   "id": "e7e4c9c6-38a5-4b55-8d1b-3d4718f84585",
   "metadata": {},
   "source": [
    "#### 2. Age vs. Played Hours:"
   ]
  },
  {
   "cell_type": "code",
   "execution_count": null,
   "id": "9d317c35-ee8f-4d38-9e03-1e81fd0bc1da",
   "metadata": {},
   "outputs": [],
   "source": [
    "age_plot <- tidy_players |>\n",
    "    ggplot(aes(x = Age, y = played_hours)) +\n",
    "    geom_point(alpha = 0.6) +\n",
    "    labs(title = \"Played Hours By Age\", x = \"Age\", y = \"Played Hours\") +\n",
    "    theme(axis.text.x = element_text(color = \"grey20\", size = 12, hjust = .5, vjust = .5, face = \"plain\"),\n",
    "        axis.text.y = element_text(color = \"grey20\", size = 12, hjust = 1, vjust = 0, face = \"plain\"),  \n",
    "        axis.title.x = element_text(color = \"grey20\", size = 15, hjust = .5, vjust = 0, face = \"bold\"),\n",
    "        axis.title.y = element_text(color = \"grey20\", size = 15, angle = 90, hjust = .5, vjust = 2.5, face = \"bold\"),\n",
    "        title = element_text(size=18, face = \"bold\"))\n",
    "\n",
    "age_plot"
   ]
  },
  {
   "cell_type": "markdown",
   "id": "42f70520-940a-46fe-8103-b65fa9736ce3",
   "metadata": {},
   "source": [
    "From the graph above we can conclude that in general, players aged from around 15-30 contribute the most data, exhibiting the highest amounts of played hours. Outliers with extremely high player counts appear to fall in the age category of 16-22 showing played hours from that of 150 to 200 and beyond."
   ]
  },
  {
   "cell_type": "markdown",
   "id": "ed78d95d-4d4c-4a94-ba3d-8e5201fc987f",
   "metadata": {},
   "source": [
    "#### 3. Gender vs. Played Hours:"
   ]
  },
  {
   "cell_type": "code",
   "execution_count": null,
   "id": "21d2a1c5-b06b-4936-a6dd-5d3e543348dc",
   "metadata": {},
   "outputs": [],
   "source": [
    "gender_plot <- tidy_players |>\n",
    "    ggplot(aes(x = gender, y = played_hours)) +\n",
    "    geom_point(alpha = 0.6) +\n",
    "    labs(title = \"Played Hours By Gender\", x = \"Gender\", y = \"Played Hours\") +\n",
    "    theme(axis.text.x = element_text(color = \"grey20\", size = 12, angle = 30, hjust = .5, vjust = .5, face = \"plain\"),\n",
    "        axis.text.y = element_text(color = \"grey20\", size = 12, hjust = 1, vjust = 0, face = \"plain\"),  \n",
    "        axis.title.x = element_text(color = \"grey20\", size = 15, hjust = .5, vjust = 0, face = \"bold\"),\n",
    "        axis.title.y = element_text(color = \"grey20\", size = 15, angle = 90, hjust = .5, vjust = 2.5, face = \"bold\"),\n",
    "        title = element_text(size=18, face = \"bold\"))\n",
    "   \n",
    "\n",
    "\n",
    "gender_plot"
   ]
  },
  {
   "cell_type": "markdown",
   "id": "b1cea46e-adb4-4252-a5f8-c67e6ddc0b56",
   "metadata": {},
   "source": [
    "From the graph above, males have the highest concentration of players, taking the top spot in average hours played with females in close second. Average hours played for other genders are all generally quite low, with the majority clocking under 20 hours of playtime. However, there is a single outlier in non-binary (at roughly 220 hours) which should not be considered in further analysis. "
   ]
  },
  {
   "cell_type": "markdown",
   "id": "39bf9ad1-868d-41b1-9bcf-f0707319bde6",
   "metadata": {},
   "source": [
    "***"
   ]
  },
  {
   "cell_type": "markdown",
   "id": "733a9880-2994-45b1-8bc6-a709b037834a",
   "metadata": {},
   "source": [
    "### Data Analysis & Visualisation:"
   ]
  },
  {
   "cell_type": "markdown",
   "id": "32d05ca0-023b-45b7-9920-8582101da8bb",
   "metadata": {},
   "source": [
    "To answer the research question, we will use linear regression as our primary method, using it to predict the total number of hours a player contributes to the data based on experience, gender, and age. Linear regression is the ideal method since it allows for predictions between multiple predictors and a continuous dependent variable (total hours played). This method provides straightfoward model that can be easily manipulated and adjusted, but only under the assumption that the relationship between our predictors and dependent variable is linear. However, since experience and gender are categorical variables, they need to be converted to unique numerical values before analysis. "
   ]
  },
  {
   "cell_type": "markdown",
   "id": "c1ac2bcf-1a89-4d55-be01-8977cbfe903a",
   "metadata": {},
   "source": [
    "#### Preprocessing and fitting the data:"
   ]
  },
  {
   "cell_type": "code",
   "execution_count": null,
   "id": "8b4929ac-28c0-4112-926b-59ab27d353a4",
   "metadata": {},
   "outputs": [],
   "source": [
    "tidy_players_clean <- tidy_players\n",
    "tidy_players_clean$experience <- as.factor(tidy_players_clean$experience)\n",
    "tidy_players_clean$gender <- as.factor(tidy_players_clean$gender)\n",
    "\n",
    "set.seed(1000)\n",
    "\n",
    "players_split <- initial_split(tidy_players_clean, prop = 0.70, strata = played_hours)\n",
    "players_train <- training(players_split)\n",
    "players_test <- testing(players_split)\n",
    "\n",
    "players_spec <- linear_reg() |>\n",
    "    set_engine(\"lm\") |>\n",
    "    set_mode(\"regression\")\n",
    "\n",
    "players_recipe <- recipe(played_hours ~ experience + Age + gender, data = players_train)\n",
    "\n",
    "players_fit <- workflow() |>\n",
    "    add_recipe(players_recipe) |>\n",
    "    add_model(players_spec) |>\n",
    "    fit(data = players_train)\n",
    "\n",
    "players_fit"
   ]
  },
  {
   "cell_type": "markdown",
   "id": "0f15fc7a-484b-43af-a061-8ce4237d0116",
   "metadata": {},
   "source": [
    "Coefficients indicate influence of each variable. For example, the coefficient for \"Beginner\" is -5.9455, meaning that, holding other factors constant, being a \"Beginner\" experience level would result in a decrease of about 5.95 hours of play time compared to the reference level (which is likely \"Amateur\" since it's missing here). Please elaborate more on this explanation."
   ]
  },
  {
   "cell_type": "code",
   "execution_count": null,
   "id": "e8a7988d-6c19-45ef-b486-b2b2338de4d5",
   "metadata": {},
   "outputs": [],
   "source": [
    "players_test_results <- players_fit |>\n",
    "    predict(players_test) |>\n",
    "    bind_cols(players_test) |>\n",
    "    metrics(truth = played_hours, estimate = .pred)\n",
    "\n",
    "players_test_results"
   ]
  },
  {
   "cell_type": "markdown",
   "id": "115b0f3d-81b0-40f1-9461-252ccdd57659",
   "metadata": {},
   "source": [
    "Explain RMSE and the other metrics here."
   ]
  },
  {
   "cell_type": "code",
   "execution_count": null,
   "id": "5b8062d9-6385-4333-b3fd-f096e6da9b19",
   "metadata": {},
   "outputs": [],
   "source": [
    "coef_data <- data.frame(\n",
    "    variable = c(\"Intercept\", \"experienceBeginner\", \"experienceRegular\", \"experienceVeteran\",\n",
    "               \"experiencePro\", \"Age\", \"genderFemale\", \"genderMale\", \"genderNon-binary\",\n",
    "               \"genderPrefer_not_to_say\", \"genderTwo_Spirited\"),\n",
    "    coefficient = c(23.6626, -5.9455, 12.5299, -9.9988, -5.8174, -0.3155, -5.3258, -10.8989, 5.3143, -15.4742, -18.0994))\n",
    "\n",
    "coef_plot <- coef_data |>\n",
    "    ggplot(aes(x = reorder(variable, coefficient), y = coefficient)) +\n",
    "    geom_bar(stat = \"identity\", fill = \"skyblue\") +\n",
    "    coord_flip() + \n",
    "    labs(title = \"Coefficients Of Linear Model\", x = \"Predictor Variable\", y = \"Coefficient\") +\n",
    "    theme(axis.text.x = element_text(color = \"grey20\", size = 12, hjust = .5, vjust = .5, face = \"plain\"),\n",
    "        axis.text.y = element_text(color = \"grey20\", size = 12, hjust = 1, vjust = 0, face = \"plain\"),  \n",
    "        axis.title.x = element_text(color = \"grey20\", size = 15, hjust = .5, vjust = 0, face = \"bold\"),\n",
    "        axis.title.y = element_text(color = \"grey20\", size = 15, angle = 90, hjust = .5, vjust = 2.5, face = \"bold\"),\n",
    "        title = element_text(size=18, face = \"bold\"))\n",
    "\n",
    "coef_plot"
   ]
  },
  {
   "cell_type": "markdown",
   "id": "195932d0-8ca9-451a-a3bf-facbbbb497bd",
   "metadata": {},
   "source": [
    "Okay this is our main visualisation, it tells us which groups are more likely to contribute. We can see that age doesn't really have that big of an influence, and that regular players contribute the most data. This doesn't account for outliers though, so we would need to fix that (especially in males/females)."
   ]
  },
  {
   "cell_type": "markdown",
   "id": "c32e435d-676a-4e43-8c3f-8c7ce6d63879",
   "metadata": {},
   "source": [
    "***"
   ]
  },
  {
   "cell_type": "markdown",
   "id": "6381d805-b25c-4068-868d-ae5936edac66",
   "metadata": {},
   "source": [
    "## **PART 3: DISCUSSIONS**"
   ]
  },
  {
   "cell_type": "markdown",
   "id": "a2ec5145-0f73-443f-80ca-8e68f979eabd",
   "metadata": {},
   "source": [
    "**Summary:**"
   ]
  },
  {
   "cell_type": "markdown",
   "id": "a12f8d0e-6721-44e7-bcce-d7273f275e06",
   "metadata": {},
   "source": [
    "Through our data analysis we’ve discovered that the players of *Amateur* level contribute the highest number of hours played compared to that of *Beginner*, *Experienced*, *Pro*, and *Veteran* playing times. This suggests that amateur players potentially have both a combination of growing interest and time availability.\n",
    "\n",
    "Regarding age demographics, we found that players aged from around 15-30 contribute the greatest amount of played hours. This data aligns with current industry gaming engagement among younger audiences.\n",
    "\n",
    "In terms of gender within our data set, we found that *Males* appear to not only have the highest concentration of players but also have the highest average of played hours. *Female* players follow closely behind in both representation and engagement. Important to note that there is an outlier in the data that *Non-binary* peoples contributed, which probably should not be considered. The data for *Non-binary* players includes an outlier that disprportinately skews the average playtime. This anomaly should be exluded when interpreting overal trends as it doesn't accurately reflect patterns within this demographic."
   ]
  },
  {
   "cell_type": "code",
   "execution_count": null,
   "id": "54afd634-683d-40bb-a17b-46981ba88353",
   "metadata": {},
   "outputs": [],
   "source": [
    "**Expectations**"
   ]
  },
  {
   "cell_type": "markdown",
   "id": "fcad548f-b27e-4d45-9325-c2fdb0c37a4a",
   "metadata": {},
   "source": [
    "Initially, we expected *Experienced*, *Pro*, or *Veteran* players contributing the highest amount of played hours, based on the assumption that more skilled players are more engaged. This misconception was dismantled through our visiual analysis, as we saw *Amateurs* with the highest playing time, and *Experienced* players falsly skewed playing time due to outliers. Additionally, the findings from the age demographic of 15-30 aligned with our assumptions that they'd produce the highest played hours, as well as the fact that *Males* led gender playing time in our data set."
   ]
  },
  {
   "cell_type": "code",
   "execution_count": null,
   "id": "1ac73bad-b148-431a-8fae-45aa841080f9",
   "metadata": {},
   "outputs": [],
   "source": [
    "**Impacts**"
   ]
  },
  {
   "cell_type": "code",
   "execution_count": null,
   "id": "91df6239-b23f-48d9-bd78-eeaf253b232e",
   "metadata": {},
   "outputs": [],
   "source": [
    "Again, understanding player engagement is an essential aspect of game research, influencing promotional efforts, resource allocation, and targeted player recruitment. By identifying which *age*, *gender*, and *experience level* groups contribute the most amount to played hours, game developers, researchers, and more can use these findings to help refine and cater to the right demographics, while also allocating time and budget to recruit less involved players. This dual approach not only enhances the reach, and inclusivity of future design efforts, but also supports the development of more balanced and player-centered game design."
   ]
  },
  {
   "cell_type": "markdown",
   "id": "92c072cc-4973-4936-99c5-6226e290a262",
   "metadata": {},
   "source": [
    "***"
   ]
  },
  {
   "cell_type": "markdown",
   "id": "7603fd53-fd3a-4e6a-b0cc-9a170701cd53",
   "metadata": {},
   "source": [
    "## **REFERENCES**"
   ]
  },
  {
   "cell_type": "markdown",
   "id": "4ad2c245-348d-4af3-98df-573e0cbcc117",
   "metadata": {},
   "source": [
    " "
   ]
  }
 ],
 "metadata": {
  "kernelspec": {
   "display_name": "R",
   "language": "R",
   "name": "ir"
  },
  "language_info": {
   "codemirror_mode": "r",
   "file_extension": ".r",
   "mimetype": "text/x-r-source",
   "name": "R",
   "pygments_lexer": "r",
   "version": "4.3.3"
  }
 },
 "nbformat": 4,
 "nbformat_minor": 5
}
