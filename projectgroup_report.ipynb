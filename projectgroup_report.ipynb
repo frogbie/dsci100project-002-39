{
 "cells": [
  {
   "cell_type": "markdown",
   "id": "4351ef95-f5f7-44e8-9800-cf239bc94896",
   "metadata": {},
   "source": [
    "# TITLE"
   ]
  },
  {
   "cell_type": "markdown",
   "id": "c619dca2-37f1-4f34-bd9d-ff7e4700fd39",
   "metadata": {},
   "source": [
    "## **INTRODUCTION**"
   ]
  },
  {
   "cell_type": "markdown",
   "id": "3dae83cb-43ae-407e-877d-d3327a156bb9",
   "metadata": {},
   "source": [
    "### Backgroud"
   ]
  },
  {
   "cell_type": "markdown",
   "id": "83296266-6ca7-4762-a9f5-7c419c01bf3c",
   "metadata": {},
   "source": [
    "Understanding player engagement is a critical aspect of game research, influencing game design, resource allocation, and targeted player recruitment, which has led to increased interest in analyzing player activity data. A research group in the Computer Science department at the University of British Columbia (UBC), led by Frank Wood, is investigating how players interact with video games by collecting their in-game behavioral data.\n",
    "\n",
    "For their study, the research team has set up a Minecraft server, where players' in-game actions are recorded as they navigate through the virtual world. The data collected provides an understanding of how different types of players engage with the game. However, not all players contribute equally. Some engage with the game significantly more than others, and running such a project efficiently requires targeted recruitment strategies to attract the players who will contribute more data. By identifying player characteristics that correlate with high levels of engagement, the research team can focus their recruitment efforts on individuals who are most likely to generate the data that they are looking for."
   ]
  },
  {
   "cell_type": "markdown",
   "id": "1d5a9e62-f4af-45d5-8e90-fc95b2fae9dc",
   "metadata": {},
   "source": [
    "### Research Question"
   ]
  },
  {
   "cell_type": "markdown",
   "id": "daf3d064-401c-4d71-98eb-e990adbf24ed",
   "metadata": {},
   "source": [
    "This report aims to answer the following question:\n",
    "\n",
    "**\"Can certain experience levels, ages, and genders predict the total number of hours a player contributes to the players dataset?\"**\n",
    "\n",
    "By analyzing how these player characteristics relate to total playtime, we can determine which groups are the most engaged. These findings will help the research team refine recruitment strategies and allocate their resources more efficiently."
   ]
  },
  {
   "cell_type": "markdown",
   "id": "72042012-8aab-4a90-a995-af9d5b7045a7",
   "metadata": {},
   "source": [
    "### The Datasets"
   ]
  },
  {
   "cell_type": "markdown",
   "id": "95713b92-2d8d-4f3f-b4ef-f96fa28a50c7",
   "metadata": {},
   "source": [
    "To answer this question, we used two datasets: <br>\n",
    "**`players.csv`** &mdash; Contains general demographic and experience-related information about players <br>\n",
    "**`sessions.csv`** &mdash; The logs of individual game sessions\n",
    "\n",
    "***\n",
    "The descriptive summary of the variables in the **`players.csv`** dataset: <br>\n",
    "<br> - Number of observations: **196** (indicates 196 different users/players).\n",
    "<br> - Number of variables: **7** (listed below)\n",
    "| Variable | Type | Description |\n",
    "| --- | --- | --- | \n",
    "| `experience`| categorical (chr) | Refers to the player's experience level (amateur, regular, veteran, pro). |\n",
    "| `subscribe` | logical (lgl) | Whether the player is a subscriber to the game-related newsletter. |\n",
    "| `hashedEmail` | categorical (chr) | A hashed (encrypted) version of a player's email that acts as an anonymized identifier for the player; this is done to avoid using their actual email addresses and thus protect their privacy. |\n",
    "| `played_hours` | numerical (dbl) | Total hours played by the player. |\n",
    "| `name` | categorical (chr) | Player's name. |\n",
    "| `gender` | categorical (chr) | Gender of the player. | \n",
    "| `Age` | numerical (dbl) | Player's age. |\n",
    "\n",
    "\n",
    "Other notes for the **`players.csv`** dataset:\n",
    "<br> - Some variables such as `gender` and `experience` may not be evenly distributed, which may introduce biases to predictions.\n",
    "<br> - `played_hours` could have outliers; some players are observed to have extreme values. This could potentially skew the averages and impact the modeling.\n",
    "\n",
    "***\n",
    "The descriptive summary of the variables in the **`sessions.csv`** dataset: <br>\n",
    "<br> - Number of observations: **1535** (indicates 1535 recorded sessions).\n",
    "<br> - Number of variables: **5** (listed below)\n",
    "\n",
    "| Variable | Type | Description |\n",
    "| --- | --- | --- | \n",
    "| `hashedEmail`| categorical (chr) | Anonymized player identifier, matches the **`players.csv`** dataset. |\n",
    "| `start_time` | categorical (chr) | Date and time for the start of player's session. |\n",
    "| `end_time` | categorical (chr) | Date and time for the end of player's session. |\n",
    "| `original_start_time` | numerical (dbl) | A timestamp version of `start_time`. |\n",
    "| `original_end_time` | numerical (dbl) | A timestamp version of `end_time`. |\n",
    "\n",
    "Other notes for the **`sessions.csv`** dataset:\n",
    "<br> - There are significantly more session observations than player observations, indicating that some players has multiple sessions."
   ]
  },
  {
   "cell_type": "markdown",
   "id": "9b57a4fd-4c46-405a-b4d1-64041b160b56",
   "metadata": {},
   "source": [
    "## Methods & Results"
   ]
  },
  {
   "cell_type": "markdown",
   "id": "6381d805-b25c-4068-868d-ae5936edac66",
   "metadata": {},
   "source": []
  }
 ],
 "metadata": {
  "kernelspec": {
   "display_name": "R",
   "language": "R",
   "name": "ir"
  },
  "language_info": {
   "codemirror_mode": "r",
   "file_extension": ".r",
   "mimetype": "text/x-r-source",
   "name": "R",
   "pygments_lexer": "r",
   "version": "4.3.3"
  }
 },
 "nbformat": 4,
 "nbformat_minor": 5
}
